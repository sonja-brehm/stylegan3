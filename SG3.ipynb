{
  "cells": [
    {
      "attachments": {},
      "cell_type": "markdown",
      "metadata": {
        "id": "TV_ylWt7YjoY"
      },
      "source": [
        "# StyleGAN3\n",
        "\n",
        "By [Derrick Schultz](https://twitter.com/dvsch), with contributions from [crimeacs](https://twitter.com/EarthML1)\n",
        "\n",
        "If you find this helpful, please consider backing me on [Patreon](https://www.patreon.com/bustbright) or becoming a [YouTube channel member](https://www.youtube.com/channel/UCaZuPdmZ380SFUMKHVsv_AA/join).\n",
        "\n",
        "Open the original notebook in colab:\n",
        "\n",
        "<a href=\"https://colab.research.google.com/github/dvschultz/stylegan3/blob/main/SG3.ipynb\" target=\"_parent\"><img src=\"https://colab.research.google.com/assets/colab-badge.svg\" alt=\"Open In Colab\"/></a>\n",
        "\n",
        "----\n",
        "\n",
        "**I only changed some of the settings & data paths for my own use case**"
      ]
    },
    {
      "attachments": {},
      "cell_type": "markdown",
      "metadata": {
        "id": "Xs28QcYEwPM_"
      },
      "source": [
        "## Setup"
      ]
    },
    {
      "cell_type": "code",
      "execution_count": null,
      "metadata": {
        "id": "8bdgviQQO8WJ"
      },
      "outputs": [],
      "source": [
        "!nvidia-smi -L"
      ]
    },
    {
      "cell_type": "code",
      "execution_count": null,
      "metadata": {
        "id": "TL1ERDs1PKJy"
      },
      "outputs": [],
      "source": [
        "from google.colab import drive\n",
        "drive.mount('/content/drive')"
      ]
    },
    {
      "cell_type": "code",
      "execution_count": null,
      "metadata": {
        "id": "RfOWvhrkcJzS"
      },
      "outputs": [],
      "source": [
        "#Uninstall new JAX\n",
        "!pip uninstall jax jaxlib -y\n",
        "#GPU frontend\n",
        "!pip install \"jax[cuda11_cudnn805]==0.3.10\" -f https://storage.googleapis.com/jax-releases/jax_cuda_releases.html\n",
        "#CPU frontend\n",
        "#!pip install jax[cpu]==0.3.10\n",
        "#Downgrade Pytorch\n",
        "!pip uninstall torch torchvision -y\n",
        "!pip install torch==1.9.0+cu111 torchvision==0.10.0+cu111 -f https://download.pytorch.org/whl/torch_stable.html\n",
        "!pip install timm==0.4.12 ftfy==6.1.1 ninja==1.10.2 imageio-ffmpeg opensimplex"
      ]
    },
    {
      "cell_type": "code",
      "execution_count": null,
      "metadata": {
        "id": "KZ04kX_gPBIz"
      },
      "outputs": [],
      "source": [
        "import os\n",
        "if os.path.isdir(\"/content/drive/MyDrive/colab-sg3\"):\n",
        "    %cd \"/content/drive/MyDrive/colab-sg3/stylegan3/\"\n",
        "elif os.path.isdir(\"/content/drive/\"):\n",
        "    #install script\n",
        "    %cd \"/content/drive/MyDrive/\"\n",
        "    !mkdir colab-sg3\n",
        "    %cd colab-sg3\n",
        "    !git clone https://github.com/dvschultz/stylegan3\n",
        "    %cd stylegan3\n",
        "    !mkdir downloads\n",
        "    !mkdir datasets\n",
        "    !mkdir pretrained\n",
        "    !gdown --id 1-5xZkD8ajXw1DdopTkH_rAoCsD72LhKU -O /content/drive/MyDrive/colab-sg2-ada-pytorch/stylegan2-ada-pytorch/pretrained/wikiart.pkl\n",
        "else:\n",
        "    !git clone https://github.com/dvschultz/stylegan3\n",
        "    %cd stylegan3\n",
        "    !mkdir downloads\n",
        "    !mkdir datasets\n",
        "    !mkdir pretrained\n",
        "    %cd pretrained\n",
        "    !gdown --id 1-5xZkD8ajXw1DdopTkH_rAoCsD72LhKU\n",
        "    %cd ../\n",
        "\n",
        "!pip install opensimplex"
      ]
    },
    {
      "attachments": {},
      "cell_type": "markdown",
      "metadata": {
        "id": "emTj0bXqeyBH"
      },
      "source": [
        "This cell will update to the latest repo. Git and Drive/Colab don’t play as nicely as I’d like so 🤞. The other option is to delete your folder in Drive (after saving out `/results` and `/datasets`!) and running the script above to replace the entire folder."
      ]
    },
    {
      "cell_type": "code",
      "execution_count": null,
      "metadata": {
        "id": "1tgIuCLRehuP"
      },
      "outputs": [],
      "source": [
        "%cd \"/content/drive/My Drive/colab-sg2-ada-pytorch/stylegan2-ada-pytorch\"\n",
        "!git config --global user.name \"test\"\n",
        "!git config --global user.email \"test@test.com\"\n",
        "!git fetch origin\n",
        "!git pull\n",
        "!git stash\n",
        "!git checkout origin/main -- train.py gen_images.py gen_video.py README.md training/training_loop.py"
      ]
    },
    {
      "attachments": {},
      "cell_type": "markdown",
      "metadata": {
        "id": "oT42eC_tPx87"
      },
      "source": [
        "## Convert/Create Dataset\n",
        "Pass a folder of images (just .pngs? TK) to create a zip file."
      ]
    },
    {
      "cell_type": "code",
      "execution_count": null,
      "metadata": {
        "id": "UO7APWvfPbXS"
      },
      "outputs": [],
      "source": [
        "!python dataset_tool.py --source=/content/drive/MyDrive/stylegan/data/sliding_512 --dest=/content/drive/MyDrive/stylegan/data/sliding-512.zip"
      ]
    },
    {
      "attachments": {},
      "cell_type": "markdown",
      "metadata": {
        "id": "EkruyuspXigs"
      },
      "source": [
        "## Training\n",
        "\n",
        "Before you start training, read [this](https://github.com/dvschultz/stylegan3/blob/main/docs/configs.md).\n",
        "\n",
        "Working Notes:\n",
        "- It appears that you must use an SG3 pre-trained model for transfer learning. I _think_ you also want to match config to the pretrained model (`t` with `t`, `r` with `r`).\n",
        "- For an `A100` I’ve found you can use a `--batch-gpu=8`. For other GPUs I recommend `--batch-gpu=4`.\n",
        "- I see `~205 sec/kimg` on A100s, and `~325 sec/kimg` on V100s (1024, `r` config). This seems slightly slower than what [NVIDIA reports.](https://github.com/dvschultz/stylegan3/blob/main/docs/configs.md)"
      ]
    },
    {
      "cell_type": "code",
      "execution_count": null,
      "metadata": {
        "id": "TODwnBpnZYAO"
      },
      "outputs": [],
      "source": [
        "!python train.py --help"
      ]
    },
    {
      "cell_type": "code",
      "execution_count": null,
      "metadata": {},
      "outputs": [],
      "source": [
        "## Settings for training 512x512\n",
        "## I changed the configuration, batch-gpu, gamma, data path & resume. I also added metrics & mirrory.\n",
        "!python train.py --outdir=./results --cfg=stylegan3-r --gpus=1 --batch=32 --batch-gpu=8 --gamma=8 --snap=4 \\\n",
        "--metrics=none --mirror=True --mirrory=True --kimg=1002 --data=/content/drive/MyDrive/stylegan/data/multiscale-512.zip \\\n",
        "--resume=https://api.ngc.nvidia.com/v2/models/nvidia/research/stylegan3/versions/1/files/stylegan3-r-afhqv2-512x512.pkl"
      ]
    },
    {
      "cell_type": "code",
      "execution_count": null,
      "metadata": {
        "id": "3sbpJOHnXn6X"
      },
      "outputs": [],
      "source": [
        "## Settings for training 1024x1024\n",
        "!python train.py --outdir=./results --cfg=stylegan3-t --gpus=1 --batch=32 --batch-gpu=8 --gamma=8 --snap=4 \\\n",
        "--metrics=none --mirror=True --mirrory=True --kimg=1002 --data=/content/drive/MyDrive/stylegan/data/sliding-1024.zip \\\n",
        "--resume=https://api.ngc.nvidia.com/v2/models/nvidia/research/stylegan3/versions/1/files/stylegan3-t-ffhq-1024x1024.pkl"
      ]
    },
    {
      "attachments": {},
      "cell_type": "markdown",
      "metadata": {
        "id": "_YMK6ADrN1_O"
      },
      "source": [
        "## Image Generation"
      ]
    },
    {
      "cell_type": "code",
      "execution_count": null,
      "metadata": {
        "id": "5T_5FWyVOd5R"
      },
      "outputs": [],
      "source": [
        "!python gen_images.py --help"
      ]
    },
    {
      "cell_type": "code",
      "execution_count": null,
      "metadata": {
        "id": "P1_9acWpQ-Sw"
      },
      "outputs": [],
      "source": [
        "!python gen_images.py --outdir=./out/01_images --trunc=1 --seeds=2-10 \\\n",
        "    --network=/content/drive/MyDrive/colab-sg3/stylegan3/results/00008-stylegan3-r-multiscale-512-gpus1-batch32-gamma8/network-snapshot-000240.pkl"
      ]
    },
    {
      "attachments": {},
      "cell_type": "markdown",
      "metadata": {
        "id": "1go7uPzwN_O6"
      },
      "source": [
        "## Video Generation\n"
      ]
    },
    {
      "cell_type": "code",
      "execution_count": null,
      "metadata": {
        "id": "IfK24HUUOcgc"
      },
      "outputs": [],
      "source": [
        "!python gen_video.py --help"
      ]
    },
    {
      "cell_type": "code",
      "execution_count": null,
      "metadata": {
        "id": "hfDwRHVFOBJU"
      },
      "outputs": [],
      "source": [
        "## I experimented with different truncations and seeds and added the interpolation and stabilize-video variable\n",
        "!python gen_video.py --output=/content/lerp.mp4 --trunc=1 --seeds=280,290,300 --grid=1x1 --interpolation=lerp --stabilize-video \\\n",
        "--network=/content/drive/MyDrive/colab-sg3/stylegan3/results/00008-stylegan3-r-multiscale-512-gpus1-batch32-gamma8/network-snapshot-000240.pkl"
      ]
    }
  ],
  "metadata": {
    "accelerator": "GPU",
    "colab": {
      "include_colab_link": true,
      "name": "SG3.ipynb",
      "private_outputs": true,
      "provenance": []
    },
    "kernelspec": {
      "display_name": "Python 3",
      "name": "python3"
    },
    "language_info": {
      "name": "python"
    }
  },
  "nbformat": 4,
  "nbformat_minor": 0
}
